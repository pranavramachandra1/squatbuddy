{
 "cells": [
  {
   "cell_type": "code",
   "execution_count": 1,
   "metadata": {},
   "outputs": [],
   "source": [
    "import cv2\n",
    "import pandas as pd\n",
    "import os\n",
    "import tensorflow as tf\n",
    "import numpy as np\n",
    "from matplotlib import pyplot as plt\n",
    "from tqdm import tqdm\n",
    "\n",
    "from squat_buddy import SquatBuddy"
   ]
  },
  {
   "cell_type": "code",
   "execution_count": 2,
   "metadata": {},
   "outputs": [],
   "source": [
    "def write_points_to_plot(in_dir: str, out_dir: str):\n",
    "    sb = SquatBuddy()\n",
    "\n",
    "    if not os.path.exists(out_dir):\n",
    "        os.makedirs(out_dir)\n",
    "\n",
    "    in_paths, out_paths = [os.path.join(in_dir, p) for p in os.listdir(in_dir)], [os.path.join(out_dir, p) for p in os.listdir(in_dir)]\n",
    "    input_size = 192\n",
    "\n",
    "    for in_p, out_p in tqdm(zip(in_paths, out_paths), total = len(in_paths)):\n",
    "        image_path = in_p\n",
    "        image = tf.io.read_file(image_path)\n",
    "        image = tf.image.decode_jpeg(image)\n",
    "\n",
    "        # Resize and pad the image to keep the aspect ratio and fit the expected size.\n",
    "        input_image = tf.expand_dims(image, axis=0)\n",
    "        input_image = tf.image.resize_with_pad(input_image, input_size, input_size)\n",
    "\n",
    "        # Run model inference.\n",
    "        keypoints_with_scores = sb.process_image(image_path)\n",
    "\n",
    "        # Create a blank image the same size as the original\n",
    "        blank_image = np.zeros((image.shape[0], image.shape[1], 3), dtype=np.uint8)\n",
    "\n",
    "        # Visualize the predictions with blank image.\n",
    "        display_image = tf.expand_dims(blank_image, axis=0)\n",
    "        display_image = tf.cast(tf.image.resize_with_pad(display_image, 1280, 1280), dtype=tf.int32)\n",
    "        output_overlay = sb.draw_prediction_on_image(np.squeeze(display_image.numpy(), axis=0), keypoints_with_scores)\n",
    "\n",
    "        # Create the plot with smaller margins and no white borders\n",
    "        fig = plt.figure(figsize=(5, 5), dpi=300)\n",
    "        plt.imshow(output_overlay)\n",
    "        plt.axis('off')\n",
    "\n",
    "        # Adjust layout to remove white space and save the image tightly around the keypoints\n",
    "        plt.subplots_adjust(left=0, right=1, top=1, bottom=0)\n",
    "        fig.savefig(out_p, format=\"png\", dpi=300, bbox_inches='tight', pad_inches=0)\n",
    "        plt.close(fig)\n",
    "\n",
    "    return"
   ]
  },
  {
   "cell_type": "code",
   "execution_count": 3,
   "metadata": {},
   "outputs": [
    {
     "name": "stderr",
     "output_type": "stream",
     "text": [
      "INFO: Created TensorFlow Lite XNNPACK delegate for CPU.\n",
      "100%|██████████| 112/112 [00:31<00:00,  3.57it/s]\n"
     ]
    }
   ],
   "source": [
    "write_points_to_plot(in_dir = \"images\", out_dir=\"images_model_results\")"
   ]
  },
  {
   "cell_type": "code",
   "execution_count": null,
   "metadata": {},
   "outputs": [],
   "source": []
  }
 ],
 "metadata": {
  "kernelspec": {
   "display_name": "squatenv",
   "language": "python",
   "name": "python3"
  },
  "language_info": {
   "codemirror_mode": {
    "name": "ipython",
    "version": 3
   },
   "file_extension": ".py",
   "mimetype": "text/x-python",
   "name": "python",
   "nbconvert_exporter": "python",
   "pygments_lexer": "ipython3",
   "version": "3.11.3"
  }
 },
 "nbformat": 4,
 "nbformat_minor": 2
}
